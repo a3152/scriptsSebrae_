{
 "cells": [
  {
   "cell_type": "code",
   "execution_count": 2,
   "metadata": {
    "vscode": {
     "languageId": "powershell"
    }
   },
   "outputs": [
    {
     "name": "stdout",
     "output_type": "stream",
     "text": [
      "EntitySets:\n",
      "  ExpectativasMercadoTop5Anuais\n",
      "  ExpectativaMercadoMensais\n",
      "  ExpectativasMercadoInflacao24Meses\n",
      "  ExpectativasMercadoInflacao12Meses\n",
      "  ExpectativasMercadoSelic\n",
      "  ExpectativasMercadoTop5Selic\n",
      "  ExpectativasMercadoTop5Mensais\n",
      "  ExpectativasMercadoTrimestrais\n",
      "  ExpectativasMercadoAnuais\n"
     ]
    }
   ],
   "source": [
    "from bcb import Expectativas\n",
    "em = Expectativas()\n",
    "em.describe()"
   ]
  },
  {
   "cell_type": "markdown",
   "metadata": {},
   "source": []
  },
  {
   "cell_type": "code",
   "execution_count": null,
   "metadata": {
    "vscode": {
     "languageId": "powershell"
    }
   },
   "outputs": [],
   "source": []
  },
  {
   "cell_type": "code",
   "execution_count": 3,
   "metadata": {
    "vscode": {
     "languageId": "powershell"
    }
   },
   "outputs": [
    {
     "name": "stdout",
     "output_type": "stream",
     "text": [
      "\n",
      "EntitySet (Endpoint): ExpectativasMercadoTop5Anuais\n",
      "EntityType: br.gov.bcb.olinda.servico.Expectativas.ExpectativasMercadoTop5Anual\n",
      "Properties: Indicador<str>, Data<str>, DataReferencia<str>, tipoCalculo<str>, Media<float>, Mediana<float>, DesvioPadrao<float>, Minimo<float>, Maximo<float>\n"
     ]
    }
   ],
   "source": [
    "em.describe('ExpectativasMercadoTop5Anuais')"
   ]
  },
  {
   "cell_type": "code",
   "execution_count": 4,
   "metadata": {
    "vscode": {
     "languageId": "powershell"
    }
   },
   "outputs": [
    {
     "data": {
      "text/html": [
       "<div>\n",
       "<style scoped>\n",
       "    .dataframe tbody tr th:only-of-type {\n",
       "        vertical-align: middle;\n",
       "    }\n",
       "\n",
       "    .dataframe tbody tr th {\n",
       "        vertical-align: top;\n",
       "    }\n",
       "\n",
       "    .dataframe thead th {\n",
       "        text-align: right;\n",
       "    }\n",
       "</style>\n",
       "<table border=\"1\" class=\"dataframe\">\n",
       "  <thead>\n",
       "    <tr style=\"text-align: right;\">\n",
       "      <th></th>\n",
       "      <th>Indicador</th>\n",
       "      <th>Data</th>\n",
       "      <th>DataReferencia</th>\n",
       "      <th>tipoCalculo</th>\n",
       "      <th>Media</th>\n",
       "      <th>Mediana</th>\n",
       "      <th>DesvioPadrao</th>\n",
       "      <th>Minimo</th>\n",
       "      <th>Maximo</th>\n",
       "    </tr>\n",
       "  </thead>\n",
       "  <tbody>\n",
       "    <tr>\n",
       "      <th>0</th>\n",
       "      <td>PIB Total</td>\n",
       "      <td>2023-03-31</td>\n",
       "      <td>2023</td>\n",
       "      <td>L</td>\n",
       "      <td>1.5936</td>\n",
       "      <td>1.7004</td>\n",
       "      <td>0.3553</td>\n",
       "      <td>0.9700</td>\n",
       "      <td>2.00</td>\n",
       "    </tr>\n",
       "    <tr>\n",
       "      <th>1</th>\n",
       "      <td>PIB Total</td>\n",
       "      <td>2023-03-31</td>\n",
       "      <td>2024</td>\n",
       "      <td>L</td>\n",
       "      <td>0.9817</td>\n",
       "      <td>1.1000</td>\n",
       "      <td>0.4276</td>\n",
       "      <td>0.4585</td>\n",
       "      <td>1.45</td>\n",
       "    </tr>\n",
       "    <tr>\n",
       "      <th>2</th>\n",
       "      <td>PIB Total</td>\n",
       "      <td>2023-03-31</td>\n",
       "      <td>2025</td>\n",
       "      <td>L</td>\n",
       "      <td>1.5833</td>\n",
       "      <td>1.5000</td>\n",
       "      <td>0.1546</td>\n",
       "      <td>1.4500</td>\n",
       "      <td>1.80</td>\n",
       "    </tr>\n",
       "    <tr>\n",
       "      <th>3</th>\n",
       "      <td>PIB Total</td>\n",
       "      <td>2023-03-31</td>\n",
       "      <td>2026</td>\n",
       "      <td>L</td>\n",
       "      <td>1.5833</td>\n",
       "      <td>1.5000</td>\n",
       "      <td>0.1546</td>\n",
       "      <td>1.4500</td>\n",
       "      <td>1.80</td>\n",
       "    </tr>\n",
       "    <tr>\n",
       "      <th>4</th>\n",
       "      <td>PIB Total</td>\n",
       "      <td>2023-03-31</td>\n",
       "      <td>2027</td>\n",
       "      <td>L</td>\n",
       "      <td>1.5833</td>\n",
       "      <td>1.5000</td>\n",
       "      <td>0.1546</td>\n",
       "      <td>1.4500</td>\n",
       "      <td>1.80</td>\n",
       "    </tr>\n",
       "    <tr>\n",
       "      <th>5</th>\n",
       "      <td>PIB Total</td>\n",
       "      <td>2023-04-03</td>\n",
       "      <td>2023</td>\n",
       "      <td>L</td>\n",
       "      <td>1.5936</td>\n",
       "      <td>1.7004</td>\n",
       "      <td>0.3553</td>\n",
       "      <td>0.9700</td>\n",
       "      <td>2.00</td>\n",
       "    </tr>\n",
       "    <tr>\n",
       "      <th>6</th>\n",
       "      <td>PIB Total</td>\n",
       "      <td>2023-04-03</td>\n",
       "      <td>2024</td>\n",
       "      <td>L</td>\n",
       "      <td>0.9817</td>\n",
       "      <td>1.1000</td>\n",
       "      <td>0.4276</td>\n",
       "      <td>0.4585</td>\n",
       "      <td>1.45</td>\n",
       "    </tr>\n",
       "    <tr>\n",
       "      <th>7</th>\n",
       "      <td>PIB Total</td>\n",
       "      <td>2023-04-03</td>\n",
       "      <td>2025</td>\n",
       "      <td>L</td>\n",
       "      <td>1.5833</td>\n",
       "      <td>1.5000</td>\n",
       "      <td>0.1546</td>\n",
       "      <td>1.4500</td>\n",
       "      <td>1.80</td>\n",
       "    </tr>\n",
       "    <tr>\n",
       "      <th>8</th>\n",
       "      <td>PIB Total</td>\n",
       "      <td>2023-04-03</td>\n",
       "      <td>2026</td>\n",
       "      <td>L</td>\n",
       "      <td>1.5833</td>\n",
       "      <td>1.5000</td>\n",
       "      <td>0.1546</td>\n",
       "      <td>1.4500</td>\n",
       "      <td>1.80</td>\n",
       "    </tr>\n",
       "    <tr>\n",
       "      <th>9</th>\n",
       "      <td>PIB Total</td>\n",
       "      <td>2023-04-03</td>\n",
       "      <td>2027</td>\n",
       "      <td>L</td>\n",
       "      <td>1.5833</td>\n",
       "      <td>1.5000</td>\n",
       "      <td>0.1546</td>\n",
       "      <td>1.4500</td>\n",
       "      <td>1.80</td>\n",
       "    </tr>\n",
       "  </tbody>\n",
       "</table>\n",
       "</div>"
      ],
      "text/plain": [
       "   Indicador       Data DataReferencia tipoCalculo   Media  Mediana  \\\n",
       "0  PIB Total 2023-03-31           2023           L  1.5936   1.7004   \n",
       "1  PIB Total 2023-03-31           2024           L  0.9817   1.1000   \n",
       "2  PIB Total 2023-03-31           2025           L  1.5833   1.5000   \n",
       "3  PIB Total 2023-03-31           2026           L  1.5833   1.5000   \n",
       "4  PIB Total 2023-03-31           2027           L  1.5833   1.5000   \n",
       "5  PIB Total 2023-04-03           2023           L  1.5936   1.7004   \n",
       "6  PIB Total 2023-04-03           2024           L  0.9817   1.1000   \n",
       "7  PIB Total 2023-04-03           2025           L  1.5833   1.5000   \n",
       "8  PIB Total 2023-04-03           2026           L  1.5833   1.5000   \n",
       "9  PIB Total 2023-04-03           2027           L  1.5833   1.5000   \n",
       "\n",
       "   DesvioPadrao  Minimo  Maximo  \n",
       "0        0.3553  0.9700    2.00  \n",
       "1        0.4276  0.4585    1.45  \n",
       "2        0.1546  1.4500    1.80  \n",
       "3        0.1546  1.4500    1.80  \n",
       "4        0.1546  1.4500    1.80  \n",
       "5        0.3553  0.9700    2.00  \n",
       "6        0.4276  0.4585    1.45  \n",
       "7        0.1546  1.4500    1.80  \n",
       "8        0.1546  1.4500    1.80  \n",
       "9        0.1546  1.4500    1.80  "
      ]
     },
     "execution_count": 4,
     "metadata": {},
     "output_type": "execute_result"
    }
   ],
   "source": [
    "ep = em.get_endpoint('ExpectativasMercadoTop5Anuais')\n",
    "ep.query().limit(10).collect()"
   ]
  },
  {
   "cell_type": "code",
   "execution_count": 5,
   "metadata": {
    "vscode": {
     "languageId": "powershell"
    }
   },
   "outputs": [],
   "source": [
    "ep2 = Expectativas().get_endpoint('ExpectativasMercadoTop5Anuais').query().collect()\n",
    "\n",
    "ep2.groupby(\"Indicador\").agg({\"Media\": \"median\"})"
   ]
  },
  {
   "cell_type": "code",
   "execution_count": null,
   "metadata": {
    "vscode": {
     "languageId": "powershell"
    }
   },
   "outputs": [
    {
     "ename": "",
     "evalue": "",
     "output_type": "error",
     "traceback": [
      "\u001b[1;31mThe kernel failed to start due to the missing module 'powershell_kernel'. Consider installing this module.\n",
      "\u001b[1;31mClick <a href='https://aka.ms/kernelFailuresMissingModule'>here</a> for more info."
     ]
    }
   ],
   "source": [
    "ep.query().filter(ep.Indicador == 'IPCA').collect()\n",
    "(ep.query()\n",
    " .filter(ep.Indicador == 'IPCA', ep.DataReferencia == 2024)\n",
    " .filter(ep.Data >= '2022-01-01')\n",
    " .filter(ep.tipoCalculo == 'C')\n",
    " .select(ep.Indicador,ep.Data, ep.Media, ep.Mediana)\n",
    " .orderby(ep.Data.desc())\n",
    " .limit(100)\n",
    " .collect())"
   ]
  }
 ],
 "metadata": {
  "kernelspec": {
   "display_name": ".venv",
   "language": "python",
   "name": "python3"
  },
  "language_info": {
   "codemirror_mode": {
    "name": "ipython",
    "version": 3
   },
   "file_extension": ".py",
   "mimetype": "text/x-python",
   "name": "python",
   "nbconvert_exporter": "python",
   "pygments_lexer": "ipython3",
   "version": "3.11.9"
  }
 },
 "nbformat": 4,
 "nbformat_minor": 2
}
