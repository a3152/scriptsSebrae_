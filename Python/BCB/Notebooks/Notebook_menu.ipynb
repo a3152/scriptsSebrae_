{
 "cells": [
  {
   "cell_type": "markdown",
   "metadata": {},
   "source": [
    "O pacote python-bcb implementa interfaces para algumas APIs disponibilizadas pelo Banco Central de forma que o resultado das consultas, na maioria dos casos, é um DataFrame pandas formatado com os dados.\n"
   ]
  },
  {
   "cell_type": "markdown",
   "metadata": {},
   "source": [
    "APIs implementadas: SGS (Sistema Gerenciador de Séries Temporais), Conversor de Moedas, Moedas OData, Expectativas, Taxas de Juros e demais APIs"
   ]
  },
  {
   "cell_type": "code",
   "execution_count": 4,
   "metadata": {},
   "outputs": [],
   "source": [
    "from bcb import sgs, currency,PTAX,Expectativas,TaxaJuros,ODataAPI"
   ]
  },
  {
   "cell_type": "code",
   "execution_count": 5,
   "metadata": {},
   "outputs": [
    {
     "data": {
      "text/html": [
       "<div>\n",
       "<style scoped>\n",
       "    .dataframe tbody tr th:only-of-type {\n",
       "        vertical-align: middle;\n",
       "    }\n",
       "\n",
       "    .dataframe tbody tr th {\n",
       "        vertical-align: top;\n",
       "    }\n",
       "\n",
       "    .dataframe thead th {\n",
       "        text-align: right;\n",
       "    }\n",
       "</style>\n",
       "<table border=\"1\" class=\"dataframe\">\n",
       "  <thead>\n",
       "    <tr style=\"text-align: right;\">\n",
       "      <th></th>\n",
       "      <th>Novo Caged - Total</th>\n",
       "    </tr>\n",
       "    <tr>\n",
       "      <th>Date</th>\n",
       "      <th></th>\n",
       "    </tr>\n",
       "  </thead>\n",
       "  <tbody>\n",
       "    <tr>\n",
       "      <th>2002-02</th>\n",
       "      <td>22306062</td>\n",
       "    </tr>\n",
       "    <tr>\n",
       "      <th>2002-03</th>\n",
       "      <td>22396322</td>\n",
       "    </tr>\n",
       "    <tr>\n",
       "      <th>2002-04</th>\n",
       "      <td>22571412</td>\n",
       "    </tr>\n",
       "    <tr>\n",
       "      <th>2002-05</th>\n",
       "      <td>22727225</td>\n",
       "    </tr>\n",
       "    <tr>\n",
       "      <th>2002-06</th>\n",
       "      <td>22860571</td>\n",
       "    </tr>\n",
       "  </tbody>\n",
       "</table>\n",
       "</div>"
      ],
      "text/plain": [
       "         Novo Caged - Total\n",
       "Date                       \n",
       "2002-02            22306062\n",
       "2002-03            22396322\n",
       "2002-04            22571412\n",
       "2002-05            22727225\n",
       "2002-06            22860571"
      ]
     },
     "execution_count": 5,
     "metadata": {},
     "output_type": "execute_result"
    }
   ],
   "source": [
    "df = sgs.get({'Novo Caged - Total': 28763}, start='2002-02-01')\n",
    "\n",
    "df.index = df.index.to_period('M')\n",
    "\n",
    "df.head()"
   ]
  },
  {
   "cell_type": "code",
   "execution_count": null,
   "metadata": {},
   "outputs": [],
   "source": []
  },
  {
   "cell_type": "code",
   "execution_count": null,
   "metadata": {},
   "outputs": [],
   "source": []
  },
  {
   "cell_type": "code",
   "execution_count": 6,
   "metadata": {},
   "outputs": [
    {
     "ename": "NameError",
     "evalue": "name 'em' is not defined",
     "output_type": "error",
     "traceback": [
      "\u001b[1;31m---------------------------------------------------------------------------\u001b[0m",
      "\u001b[1;31mNameError\u001b[0m                                 Traceback (most recent call last)",
      "Cell \u001b[1;32mIn[6], line 1\u001b[0m\n\u001b[1;32m----> 1\u001b[0m ep \u001b[38;5;241m=\u001b[39m \u001b[43mem\u001b[49m\u001b[38;5;241m.\u001b[39mget_endpoint(\u001b[38;5;124m'\u001b[39m\u001b[38;5;124mExpectativasMercadoTop5Anuais\u001b[39m\u001b[38;5;124m'\u001b[39m)\n\u001b[0;32m      2\u001b[0m ep\u001b[38;5;241m.\u001b[39mquery()\u001b[38;5;241m.\u001b[39mlimit(\u001b[38;5;241m10\u001b[39m)\u001b[38;5;241m.\u001b[39mcollect()\n",
      "\u001b[1;31mNameError\u001b[0m: name 'em' is not defined"
     ]
    }
   ],
   "source": [
    "ep = em.get_endpoint('ExpectativasMercadoTop5Anuais')\n",
    "ep.query().limit(10).collect()"
   ]
  },
  {
   "cell_type": "code",
   "execution_count": null,
   "metadata": {},
   "outputs": [
    {
     "data": {
      "text/html": [
       "<div>\n",
       "<style scoped>\n",
       "    .dataframe tbody tr th:only-of-type {\n",
       "        vertical-align: middle;\n",
       "    }\n",
       "\n",
       "    .dataframe tbody tr th {\n",
       "        vertical-align: top;\n",
       "    }\n",
       "\n",
       "    .dataframe thead th {\n",
       "        text-align: right;\n",
       "    }\n",
       "</style>\n",
       "<table border=\"1\" class=\"dataframe\">\n",
       "  <thead>\n",
       "    <tr style=\"text-align: right;\">\n",
       "      <th></th>\n",
       "      <th>Media</th>\n",
       "    </tr>\n",
       "    <tr>\n",
       "      <th>Indicador</th>\n",
       "      <th></th>\n",
       "    </tr>\n",
       "  </thead>\n",
       "  <tbody>\n",
       "    <tr>\n",
       "      <th>Câmbio</th>\n",
       "      <td>3.0500</td>\n",
       "    </tr>\n",
       "    <tr>\n",
       "      <th>IGP-DI</th>\n",
       "      <td>4.7500</td>\n",
       "    </tr>\n",
       "    <tr>\n",
       "      <th>IGP-M</th>\n",
       "      <td>4.6400</td>\n",
       "    </tr>\n",
       "    <tr>\n",
       "      <th>IPCA</th>\n",
       "      <td>4.4800</td>\n",
       "    </tr>\n",
       "    <tr>\n",
       "      <th>IPCA Administrados</th>\n",
       "      <td>3.8566</td>\n",
       "    </tr>\n",
       "    <tr>\n",
       "      <th>PIB Total</th>\n",
       "      <td>1.8667</td>\n",
       "    </tr>\n",
       "    <tr>\n",
       "      <th>Selic</th>\n",
       "      <td>10.0000</td>\n",
       "    </tr>\n",
       "    <tr>\n",
       "      <th>Taxa de desocupação</th>\n",
       "      <td>8.6667</td>\n",
       "    </tr>\n",
       "  </tbody>\n",
       "</table>\n",
       "</div>"
      ],
      "text/plain": [
       "                       Media\n",
       "Indicador                   \n",
       "Câmbio                3.0500\n",
       "IGP-DI                4.7500\n",
       "IGP-M                 4.6400\n",
       "IPCA                  4.4800\n",
       "IPCA Administrados    3.8566\n",
       "PIB Total             1.8667\n",
       "Selic                10.0000\n",
       "Taxa de desocupação   8.6667"
      ]
     },
     "execution_count": 93,
     "metadata": {},
     "output_type": "execute_result"
    }
   ],
   "source": [
    "ep2 = Expectativas().get_endpoint('ExpectativasMercadoTop5Anuais').query().collect()\n",
    "\n",
    "ep2.groupby(\"Indicador\").agg({\"Media\": \"median\"})"
   ]
  },
  {
   "cell_type": "code",
   "execution_count": null,
   "metadata": {},
   "outputs": [
    {
     "data": {
      "text/html": [
       "<div>\n",
       "<style scoped>\n",
       "    .dataframe tbody tr th:only-of-type {\n",
       "        vertical-align: middle;\n",
       "    }\n",
       "\n",
       "    .dataframe tbody tr th {\n",
       "        vertical-align: top;\n",
       "    }\n",
       "\n",
       "    .dataframe thead th {\n",
       "        text-align: right;\n",
       "    }\n",
       "</style>\n",
       "<table border=\"1\" class=\"dataframe\">\n",
       "  <thead>\n",
       "    <tr style=\"text-align: right;\">\n",
       "      <th></th>\n",
       "      <th>Indicador</th>\n",
       "      <th>Data</th>\n",
       "      <th>Media</th>\n",
       "      <th>Mediana</th>\n",
       "    </tr>\n",
       "  </thead>\n",
       "  <tbody>\n",
       "    <tr>\n",
       "      <th>0</th>\n",
       "      <td>IPCA</td>\n",
       "      <td>2024-05-03</td>\n",
       "      <td>3.8521</td>\n",
       "      <td>3.6162</td>\n",
       "    </tr>\n",
       "    <tr>\n",
       "      <th>1</th>\n",
       "      <td>IPCA</td>\n",
       "      <td>2024-05-02</td>\n",
       "      <td>3.8335</td>\n",
       "      <td>3.5851</td>\n",
       "    </tr>\n",
       "    <tr>\n",
       "      <th>2</th>\n",
       "      <td>IPCA</td>\n",
       "      <td>2024-04-30</td>\n",
       "      <td>3.8335</td>\n",
       "      <td>3.5851</td>\n",
       "    </tr>\n",
       "    <tr>\n",
       "      <th>3</th>\n",
       "      <td>IPCA</td>\n",
       "      <td>2024-04-29</td>\n",
       "      <td>3.8335</td>\n",
       "      <td>3.5851</td>\n",
       "    </tr>\n",
       "    <tr>\n",
       "      <th>4</th>\n",
       "      <td>IPCA</td>\n",
       "      <td>2024-04-26</td>\n",
       "      <td>3.8438</td>\n",
       "      <td>3.5851</td>\n",
       "    </tr>\n",
       "    <tr>\n",
       "      <th>...</th>\n",
       "      <td>...</td>\n",
       "      <td>...</td>\n",
       "      <td>...</td>\n",
       "      <td>...</td>\n",
       "    </tr>\n",
       "    <tr>\n",
       "      <th>95</th>\n",
       "      <td>IPCA</td>\n",
       "      <td>2023-12-14</td>\n",
       "      <td>3.8739</td>\n",
       "      <td>3.9282</td>\n",
       "    </tr>\n",
       "    <tr>\n",
       "      <th>96</th>\n",
       "      <td>IPCA</td>\n",
       "      <td>2023-12-13</td>\n",
       "      <td>3.8739</td>\n",
       "      <td>3.9282</td>\n",
       "    </tr>\n",
       "    <tr>\n",
       "      <th>97</th>\n",
       "      <td>IPCA</td>\n",
       "      <td>2023-12-12</td>\n",
       "      <td>3.8739</td>\n",
       "      <td>3.9282</td>\n",
       "    </tr>\n",
       "    <tr>\n",
       "      <th>98</th>\n",
       "      <td>IPCA</td>\n",
       "      <td>2023-12-11</td>\n",
       "      <td>3.8300</td>\n",
       "      <td>3.7400</td>\n",
       "    </tr>\n",
       "    <tr>\n",
       "      <th>99</th>\n",
       "      <td>IPCA</td>\n",
       "      <td>2023-12-08</td>\n",
       "      <td>3.8300</td>\n",
       "      <td>3.7400</td>\n",
       "    </tr>\n",
       "  </tbody>\n",
       "</table>\n",
       "<p>100 rows × 4 columns</p>\n",
       "</div>"
      ],
      "text/plain": [
       "   Indicador       Data   Media  Mediana\n",
       "0       IPCA 2024-05-03  3.8521   3.6162\n",
       "1       IPCA 2024-05-02  3.8335   3.5851\n",
       "2       IPCA 2024-04-30  3.8335   3.5851\n",
       "3       IPCA 2024-04-29  3.8335   3.5851\n",
       "4       IPCA 2024-04-26  3.8438   3.5851\n",
       "..       ...        ...     ...      ...\n",
       "95      IPCA 2023-12-14  3.8739   3.9282\n",
       "96      IPCA 2023-12-13  3.8739   3.9282\n",
       "97      IPCA 2023-12-12  3.8739   3.9282\n",
       "98      IPCA 2023-12-11  3.8300   3.7400\n",
       "99      IPCA 2023-12-08  3.8300   3.7400\n",
       "\n",
       "[100 rows x 4 columns]"
      ]
     },
     "execution_count": 96,
     "metadata": {},
     "output_type": "execute_result"
    }
   ],
   "source": [
    "ep.query().filter(ep.Indicador == 'IPCA').collect()\n",
    "(ep.query()\n",
    " .filter(ep.Indicador == 'IPCA', ep.DataReferencia == 2024)\n",
    " .filter(ep.Data >= '2022-01-01')\n",
    " .filter(ep.tipoCalculo == 'C')\n",
    " .select(ep.Indicador,ep.Data, ep.Media, ep.Mediana)\n",
    " .orderby(ep.Data.desc())\n",
    " .limit(100)\n",
    " .collect())"
   ]
  }
 ],
 "metadata": {
  "kernelspec": {
   "display_name": "Python 3",
   "language": "python",
   "name": "python3"
  },
  "language_info": {
   "codemirror_mode": {
    "name": "ipython",
    "version": 3
   },
   "file_extension": ".py",
   "mimetype": "text/x-python",
   "name": "python",
   "nbconvert_exporter": "python",
   "pygments_lexer": "ipython3",
   "version": "3.11.9"
  }
 },
 "nbformat": 4,
 "nbformat_minor": 2
}
