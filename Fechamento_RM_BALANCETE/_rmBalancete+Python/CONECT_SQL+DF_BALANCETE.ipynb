{
    "cells": [
        {
            "cell_type": "code",
            "execution_count": 1,
            "metadata": {
                "azdata_cell_guid": "9a6af5ca-5f96-4ae2-b98f-32ec18dd9f93",
                "language": "python",
                "tags": []
            },
            "outputs": [
                {
                    "name": "stdout",
                    "output_type": "stream",
                    "text": [
                        "import : O termo 'import' n■ ■ reconhecido como nome de cmdlet, fun■■, arquivo de script ou programa oper■vel. \n",
                        "Verifique a grafia do nome ou, se um caminho tiver sido inclu■do, veja se o caminho est■ correto e tente novamente.\n",
                        "No linha:2 caractere:1\n",
                        "+ import pyodbc\n",
                        "+ ~~~~~~\n",
                        "    + CategoryInfo          : ObjectNotFound: (import:String) [], CommandNotFoundException\n",
                        "    + FullyQualifiedErrorId : CommandNotFoundException\n",
                        " \n",
                        "import : O termo 'import' n■ ■ reconhecido como nome de cmdlet, fun■■, arquivo de script ou programa oper■vel. \n",
                        "Verifique a grafia do nome ou, se um caminho tiver sido inclu■do, veja se o caminho est■ correto e tente novamente.\n",
                        "No linha:3 caractere:1\n",
                        "+ import pandas as pd\n",
                        "+ ~~~~~~\n",
                        "    + CategoryInfo          : ObjectNotFound: (import:String) [], CommandNotFoundException\n",
                        "    + FullyQualifiedErrorId : CommandNotFoundException\n",
                        " \n"
                    ]
                }
            ],
            "source": [
                "import pyodbc \n",
                "import pandas as pd\n"
            ]
        },
        {
            "cell_type": "code",
            "execution_count": 2,
            "metadata": {
                "azdata_cell_guid": "8555a67c-454a-499f-bf7a-c208974f3f5b",
                "language": "python",
                "tags": []
            },
            "outputs": [
                {
                    "name": "stdout",
                    "output_type": "stream",
                    "text": [
                        "cnxn : O termo 'cnxn' n■ ■ reconhecido como nome de cmdlet, fun■■, arquivo de script ou programa oper■vel. Verifique \n",
                        "a grafia do nome ou, se um caminho tiver sido inclu■do, veja se o caminho est■ correto e tente novamente.\n",
                        "No linha:2 caractere:1\n",
                        "+ cnxn = pyodbc.connect('DRIVER={ODBC Driver 17 for SQL Server};SERVER= ...\n",
                        "+ ~~~~\n",
                        "    + CategoryInfo          : ObjectNotFound: (cnxn:String) [], CommandNotFoundException\n",
                        "    + FullyQualifiedErrorId : CommandNotFoundException\n",
                        " \n"
                    ]
                }
            ],
            "source": [
                "cnxn = pyodbc.connect('DRIVER={ODBC Driver 17 for SQL Server};SERVER=SPSVSQL39;DATABASE=FINANCA;Trusted_connection=yes');"
            ]
        },
        {
            "cell_type": "code",
            "execution_count": 3,
            "metadata": {
                "azdata_cell_guid": "0631787c-9e9b-43aa-9281-80f8f1fe63a7",
                "language": "python",
                "tags": []
            },
            "outputs": [
                {
                    "name": "stdout",
                    "output_type": "stream",
                    "text": [
                        "No linha:2 caractere:22\n",
                        "+ cursor = cnxn.cursor()\n",
                        "+                      ~\n",
                        "Uma express■ era esperada ap■s '('.\n",
                        "    + CategoryInfo          : ParserError: (:) [], ParentContainsErrorRecordException\n",
                        "    + FullyQualifiedErrorId : ExpectedExpression\n",
                        " \n"
                    ]
                }
            ],
            "source": [
                "cursor = cnxn.cursor()\n",
                "cursor.execute('SELECT * FROM _rmBALANCETE')"
            ]
        },
        {
            "cell_type": "markdown",
            "metadata": {
                "azdata_cell_guid": "38bb8ce2-33d8-400e-a375-2889c3a95a5f",
                "language": "",
                "tags": []
            },
            "source": [
                "for row in cursor:\n",
                "    print('row = %r' % (row,))"
            ]
        }
    ],
    "metadata": {
        "kernelspec": {
            "display_name": "PowerShell",
            "language": "powershell",
            "name": "powershell"
        },
        "language_info": {
            "codemirror_mode": "shell",
            "file_extension": ".ps1",
            "mimetype": "text/x-sh",
            "name": "powershell"
        }
    },
    "nbformat": 4,
    "nbformat_minor": 2
}
